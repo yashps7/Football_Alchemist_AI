{
  "nbformat": 4,
  "nbformat_minor": 0,
  "metadata": {
    "colab": {
      "provenance": [],
      "authorship_tag": "ABX9TyPiD/u8MTToPSGF8lP6jIIE",
      "include_colab_link": true
    },
    "kernelspec": {
      "name": "python3",
      "display_name": "Python 3"
    },
    "language_info": {
      "name": "python"
    }
  },
  "cells": [
    {
      "cell_type": "markdown",
      "metadata": {
        "id": "view-in-github",
        "colab_type": "text"
      },
      "source": [
        "<a href=\"https://colab.research.google.com/github/yashps7/Scouting_Using_OpenAI_Api/blob/main/markdownFbref.ipynb\" target=\"_parent\"><img src=\"https://colab.research.google.com/assets/colab-badge.svg\" alt=\"Open In Colab\"/></a>"
      ]
    },
    {
      "cell_type": "code",
      "execution_count": 2,
      "metadata": {
        "id": "kaNeNqTq9cAU"
      },
      "outputs": [],
      "source": [
        "import pandas as pd\n",
        "from tabulate import tabulate\n",
        "from IPython.display import Markdown, display"
      ]
    },
    {
      "cell_type": "code",
      "source": [
        "def generate_scouting_report(player_name, url):\n",
        "    # Load data from the provided URL\n",
        "    df = pd.read_html(url)[0]\n",
        "\n",
        "    # Convert DataFrame to Markdown\n",
        "    markdown_table = tabulate(df, headers='keys', tablefmt='pipe')\n",
        "\n",
        "    # Display Markdown content\n",
        "    display(Markdown(markdown_table))\n",
        "\n",
        "    # Save Markdown content to a file\n",
        "    with open('table.md', 'w') as f:\n",
        "        f.write(markdown_table)\n",
        "\n",
        "# Example usage:\n",
        "player_name = input(\"Enter player's name: \")\n",
        "url = input(\"Enter FBRef URL: \")\n",
        "generate_scouting_report(player_name, url)"
      ],
      "metadata": {
        "id": "Nm5zABq__1WA"
      },
      "execution_count": null,
      "outputs": []
    }
  ]
}